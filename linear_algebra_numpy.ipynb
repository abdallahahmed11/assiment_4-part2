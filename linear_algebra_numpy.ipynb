{
  "cells": [
    {
      "cell_type": "markdown",
      "metadata": {
        "id": "XQ09iZ2cjdPX"
      },
      "source": [
        "## Write a Numpy program to compute the multiplication of two given matrixes"
      ]
    },
    {
      "cell_type": "code",
      "source": [
        "import numpy as np"
      ],
      "metadata": {
        "id": "6LvxWi62lguP"
      },
      "execution_count": 3,
      "outputs": []
    },
    {
      "cell_type": "code",
      "execution_count": 4,
      "metadata": {
        "colab": {
          "base_uri": "https://localhost:8080/"
        },
        "id": "Tf2OugAdjdPZ",
        "outputId": "89ffa530-cc0a-4ebb-8108-bcc014283358"
      },
      "outputs": [
        {
          "output_type": "stream",
          "name": "stdout",
          "text": [
            "[[10 40  9]\n",
            " [16 25 36]\n",
            " [49 64 81]]\n"
          ]
        }
      ],
      "source": [
        "\n",
        "arr1=np.array([[1,2,3]\n",
        "              ,[4,5,6]\n",
        "              ,[7,8,9]])\n",
        "\n",
        "arr2=np.array([[10,20,3]\n",
        "              ,[4,5,6]\n",
        "              ,[7,8,9]])\n",
        "\n",
        "arr3=arr1*arr2\n",
        "print(arr3)\n",
        "\n"
      ]
    },
    {
      "cell_type": "code",
      "execution_count": null,
      "metadata": {
        "id": "uPqQp1h5jdPa"
      },
      "outputs": [],
      "source": []
    },
    {
      "cell_type": "markdown",
      "metadata": {
        "id": "D6xETLgjjdPa"
      },
      "source": [
        "## Write a NumPy program to compute the determinant of a given square array"
      ]
    },
    {
      "cell_type": "code",
      "execution_count": 7,
      "metadata": {
        "colab": {
          "base_uri": "https://localhost:8080/"
        },
        "id": "tUmiRAZPjdPa",
        "outputId": "6be5978c-cacf-40e6-eef1-345afefbda8f"
      },
      "outputs": [
        {
          "output_type": "stream",
          "name": "stdout",
          "text": [
            "81.0000000000001\n"
          ]
        }
      ],
      "source": [
        "arr4=np.linalg.det(arr2)\n",
        "print(arr4)"
      ]
    },
    {
      "cell_type": "code",
      "execution_count": null,
      "metadata": {
        "id": "UnrCNrN4jdPb"
      },
      "outputs": [],
      "source": []
    },
    {
      "cell_type": "markdown",
      "metadata": {
        "id": "5-5rSEsajdPb"
      },
      "source": [
        "## Write a NumPy program to compute the cross product of two given vectors"
      ]
    },
    {
      "cell_type": "code",
      "execution_count": 9,
      "metadata": {
        "colab": {
          "base_uri": "https://localhost:8080/"
        },
        "id": "kPCOHQOFjdPc",
        "outputId": "b2b02c57-9070-41f9-892d-49f778117a44"
      },
      "outputs": [
        {
          "output_type": "stream",
          "name": "stdout",
          "text": [
            "[[ 39  54  42]\n",
            " [102 153  96]\n",
            " [165 252 150]]\n"
          ]
        }
      ],
      "source": [
        "arr5=arr1.dot(arr2)\n",
        "print(arr5)"
      ]
    },
    {
      "cell_type": "code",
      "execution_count": null,
      "metadata": {
        "id": "xWGReGdWjdPc"
      },
      "outputs": [],
      "source": []
    },
    {
      "cell_type": "markdown",
      "metadata": {
        "id": "MABJMgd0jdPd"
      },
      "source": [
        "## Write a NumPy program to compute the condition number of a given matrix"
      ]
    },
    {
      "cell_type": "code",
      "execution_count": null,
      "metadata": {
        "id": "OsSXhPSJjdPd"
      },
      "outputs": [],
      "source": [
        "#didn't take it in session"
      ]
    },
    {
      "cell_type": "code",
      "execution_count": null,
      "metadata": {
        "id": "swEAlNmDjdPe"
      },
      "outputs": [],
      "source": []
    },
    {
      "cell_type": "markdown",
      "metadata": {
        "id": "_X7F8Hs6jdPe"
      },
      "source": [
        "## Write a NumPy program to compute the inverse of a given matrix"
      ]
    },
    {
      "cell_type": "code",
      "execution_count": 10,
      "metadata": {
        "colab": {
          "base_uri": "https://localhost:8080/"
        },
        "id": "CzFTJ-v_jdPe",
        "outputId": "7f6a18b5-16a8-4aa0-92a1-684f2a52cb06"
      },
      "outputs": [
        {
          "output_type": "stream",
          "name": "stdout",
          "text": [
            "[[-0.03703704 -1.92592593  1.2962963 ]\n",
            " [ 0.07407407  0.85185185 -0.59259259]\n",
            " [-0.03703704  0.74074074 -0.37037037]]\n"
          ]
        }
      ],
      "source": [
        "arr7=np.linalg.inv(arr2)\n",
        "print(arr7)"
      ]
    },
    {
      "cell_type": "code",
      "execution_count": null,
      "metadata": {
        "id": "uyJJsYdKjdPf"
      },
      "outputs": [],
      "source": []
    },
    {
      "cell_type": "code",
      "execution_count": null,
      "metadata": {
        "id": "vgeu85fkjdPf"
      },
      "outputs": [],
      "source": []
    }
  ],
  "metadata": {
    "kernelspec": {
      "display_name": "Python 3",
      "language": "python",
      "name": "python3"
    },
    "language_info": {
      "codemirror_mode": {
        "name": "ipython",
        "version": 3
      },
      "file_extension": ".py",
      "mimetype": "text/x-python",
      "name": "python",
      "nbconvert_exporter": "python",
      "pygments_lexer": "ipython3",
      "version": "3.7.3"
    },
    "colab": {
      "provenance": []
    }
  },
  "nbformat": 4,
  "nbformat_minor": 0
}